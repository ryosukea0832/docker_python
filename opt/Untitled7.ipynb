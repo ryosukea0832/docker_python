{
 "cells": [
  {
   "cell_type": "code",
   "execution_count": 1,
   "id": "9490a29f-4794-4f11-831a-7f2927c170ec",
   "metadata": {},
   "outputs": [
    {
     "data": {
      "image/png": "[encoded data removed]",
      "text/plain": [
       "<IPython.core.display.Image object>"
      ]
     },
     "execution_count": 1,
     "metadata": {},
     "output_type": "execute_result"
    }
   ],
   "source": [
    "import qrcode\n",
    "#from PIL import Image\n",
    "\n",
    "from IPython.display import Image\n",
    "#Image(\"./path/hoge.png\")\n",
    " \n",
    " \n",
    "qr = qrcode.QRCode(\n",
    "    version=10,\n",
    "    error_correction=qrcode.constants.ERROR_CORRECT_L,\n",
    "    box_size=2,\n",
    "    border=8\n",
    ")\n",
    "qr.add_data('https://engineer-lifestyle-blog.com/')\n",
    "qr.make()\n",
    "_img = qr.make_image(fill_color=\"black\", back_color=\"#ffffff\")\n",
    "_img.save('qrcode.png')\n",
    "Image(\"qrcode.png\")\n",
    "#img.show()"
   ]
  },
  {
   "cell_type": "code",
   "execution_count": 7,
   "id": "9ea83a79-3a60-489c-904b-94de4d39421c",
   "metadata": {},
   "outputs": [
    {
     "ename": "ImportError",
     "evalue": "Unable to find zbar shared library",
     "output_type": "error",
     "traceback": [
      "\u001b[0;31m---------------------------------------------------------------------------\u001b[0m",
      "\u001b[0;31mImportError\u001b[0m                               Traceback (most recent call last)",
      "Cell \u001b[0;32mIn [7], line 1\u001b[0m\n\u001b[0;32m----> 1\u001b[0m \u001b[38;5;28;01mfrom\u001b[39;00m \u001b[38;5;21;01mpyzbar\u001b[39;00m\u001b[38;5;21;01m.\u001b[39;00m\u001b[38;5;21;01mpyzbar\u001b[39;00m \u001b[38;5;28;01mimport\u001b[39;00m decode\n\u001b[1;32m      2\u001b[0m \u001b[38;5;28;01mfrom\u001b[39;00m \u001b[38;5;21;01mPIL\u001b[39;00m \u001b[38;5;28;01mimport\u001b[39;00m Image, ImageGrab\n\u001b[1;32m      5\u001b[0m \u001b[38;5;28;01mdef\u001b[39;00m \u001b[38;5;21mqrdecode\u001b[39m(img):\n",
      "File \u001b[0;32m/usr/local/lib/python3.10/site-packages/pyzbar/pyzbar.py:7\u001b[0m\n\u001b[1;32m      5\u001b[0m \u001b[38;5;28;01mfrom\u001b[39;00m \u001b[38;5;21;01m.\u001b[39;00m\u001b[38;5;21;01mlocations\u001b[39;00m \u001b[38;5;28;01mimport\u001b[39;00m bounding_box, convex_hull, Point, Rect\n\u001b[1;32m      6\u001b[0m \u001b[38;5;28;01mfrom\u001b[39;00m \u001b[38;5;21;01m.\u001b[39;00m\u001b[38;5;21;01mpyzbar_error\u001b[39;00m \u001b[38;5;28;01mimport\u001b[39;00m PyZbarError\n\u001b[0;32m----> 7\u001b[0m \u001b[38;5;28;01mfrom\u001b[39;00m \u001b[38;5;21;01m.\u001b[39;00m\u001b[38;5;21;01mwrapper\u001b[39;00m \u001b[38;5;28;01mimport\u001b[39;00m (\n\u001b[1;32m      8\u001b[0m     zbar_image_scanner_set_config,\n\u001b[1;32m      9\u001b[0m     zbar_image_scanner_create, zbar_image_scanner_destroy,\n\u001b[1;32m     10\u001b[0m     zbar_image_create, zbar_image_destroy, zbar_image_set_format,\n\u001b[1;32m     11\u001b[0m     zbar_image_set_size, zbar_image_set_data, zbar_scan_image,\n\u001b[1;32m     12\u001b[0m     zbar_image_first_symbol, zbar_symbol_get_data_length,\n\u001b[1;32m     13\u001b[0m     zbar_symbol_get_data, zbar_symbol_get_orientation,\n\u001b[1;32m     14\u001b[0m     zbar_symbol_get_loc_size, zbar_symbol_get_loc_x, zbar_symbol_get_loc_y,\n\u001b[1;32m     15\u001b[0m     zbar_symbol_get_quality, zbar_symbol_next, ZBarConfig, ZBarOrientation,\n\u001b[1;32m     16\u001b[0m     ZBarSymbol, EXTERNAL_DEPENDENCIES,\n\u001b[1;32m     17\u001b[0m )\n\u001b[1;32m     19\u001b[0m __all__ \u001b[38;5;241m=\u001b[39m [\n\u001b[1;32m     20\u001b[0m     \u001b[38;5;124m'\u001b[39m\u001b[38;5;124mdecode\u001b[39m\u001b[38;5;124m'\u001b[39m, \u001b[38;5;124m'\u001b[39m\u001b[38;5;124mPoint\u001b[39m\u001b[38;5;124m'\u001b[39m, \u001b[38;5;124m'\u001b[39m\u001b[38;5;124mRect\u001b[39m\u001b[38;5;124m'\u001b[39m, \u001b[38;5;124m'\u001b[39m\u001b[38;5;124mDecoded\u001b[39m\u001b[38;5;124m'\u001b[39m, \u001b[38;5;124m'\u001b[39m\u001b[38;5;124mZBarSymbol\u001b[39m\u001b[38;5;124m'\u001b[39m, \u001b[38;5;124m'\u001b[39m\u001b[38;5;124mEXTERNAL_DEPENDENCIES\u001b[39m\u001b[38;5;124m'\u001b[39m, \u001b[38;5;124m'\u001b[39m\u001b[38;5;124mORIENTATION_AVAILABLE\u001b[39m\u001b[38;5;124m'\u001b[39m\n\u001b[1;32m     21\u001b[0m ]\n\u001b[1;32m     24\u001b[0m ORIENTATION_AVAILABLE \u001b[38;5;241m=\u001b[39m zbar_symbol_get_orientation \u001b[38;5;129;01mis\u001b[39;00m \u001b[38;5;129;01mnot\u001b[39;00m \u001b[38;5;28;01mNone\u001b[39;00m\n",
      "File \u001b[0;32m/usr/local/lib/python3.10/site-packages/pyzbar/wrapper.py:151\u001b[0m\n\u001b[1;32m    147\u001b[0m     prototype \u001b[38;5;241m=\u001b[39m CFUNCTYPE(restype, \u001b[38;5;241m*\u001b[39margs)\n\u001b[1;32m    148\u001b[0m     \u001b[38;5;28;01mreturn\u001b[39;00m prototype((fname, load_libzbar()))\n\u001b[0;32m--> 151\u001b[0m zbar_version \u001b[38;5;241m=\u001b[39m \u001b[43mzbar_function\u001b[49m\u001b[43m(\u001b[49m\n\u001b[1;32m    152\u001b[0m \u001b[43m    \u001b[49m\u001b[38;5;124;43m'\u001b[39;49m\u001b[38;5;124;43mzbar_version\u001b[39;49m\u001b[38;5;124;43m'\u001b[39;49m\u001b[43m,\u001b[49m\n\u001b[1;32m    153\u001b[0m \u001b[43m    \u001b[49m\u001b[43mc_int\u001b[49m\u001b[43m,\u001b[49m\n\u001b[1;32m    154\u001b[0m \u001b[43m    \u001b[49m\u001b[43mc_uint_p\u001b[49m\u001b[43m,\u001b[49m\u001b[43m    \u001b[49m\u001b[38;5;66;43;03m# major,\u001b[39;49;00m\n\u001b[1;32m    155\u001b[0m \u001b[43m    \u001b[49m\u001b[43mc_uint_p\u001b[49m\u001b[43m,\u001b[49m\u001b[43m    \u001b[49m\u001b[38;5;66;43;03m# minor\u001b[39;49;00m\n\u001b[1;32m    156\u001b[0m \u001b[43m)\u001b[49m\n\u001b[1;32m    158\u001b[0m zbar_set_verbosity \u001b[38;5;241m=\u001b[39m zbar_function(\n\u001b[1;32m    159\u001b[0m     \u001b[38;5;124m'\u001b[39m\u001b[38;5;124mzbar_set_verbosity\u001b[39m\u001b[38;5;124m'\u001b[39m,\n\u001b[1;32m    160\u001b[0m     \u001b[38;5;28;01mNone\u001b[39;00m,\n\u001b[1;32m    161\u001b[0m     c_int\n\u001b[1;32m    162\u001b[0m )\n\u001b[1;32m    164\u001b[0m zbar_image_scanner_create \u001b[38;5;241m=\u001b[39m zbar_function(\n\u001b[1;32m    165\u001b[0m     \u001b[38;5;124m'\u001b[39m\u001b[38;5;124mzbar_image_scanner_create\u001b[39m\u001b[38;5;124m'\u001b[39m,\n\u001b[1;32m    166\u001b[0m     POINTER(zbar_image_scanner)\n\u001b[1;32m    167\u001b[0m )\n",
      "File \u001b[0;32m/usr/local/lib/python3.10/site-packages/pyzbar/wrapper.py:148\u001b[0m, in \u001b[0;36mzbar_function\u001b[0;34m(fname, restype, *args)\u001b[0m\n\u001b[1;32m    136\u001b[0m \u001b[38;5;124;03m\"\"\"Returns a foreign function exported by `zbar`.\u001b[39;00m\n\u001b[1;32m    137\u001b[0m \n\u001b[1;32m    138\u001b[0m \u001b[38;5;124;03mArgs:\u001b[39;00m\n\u001b[0;32m   (...)\u001b[0m\n\u001b[1;32m    145\u001b[0m \u001b[38;5;124;03m    cddl.CFunctionType: A wrapper around the function.\u001b[39;00m\n\u001b[1;32m    146\u001b[0m \u001b[38;5;124;03m\"\"\"\u001b[39;00m\n\u001b[1;32m    147\u001b[0m prototype \u001b[38;5;241m=\u001b[39m CFUNCTYPE(restype, \u001b[38;5;241m*\u001b[39margs)\n\u001b[0;32m--> 148\u001b[0m \u001b[38;5;28;01mreturn\u001b[39;00m prototype((fname, \u001b[43mload_libzbar\u001b[49m\u001b[43m(\u001b[49m\u001b[43m)\u001b[49m))\n",
      "File \u001b[0;32m/usr/local/lib/python3.10/site-packages/pyzbar/wrapper.py:127\u001b[0m, in \u001b[0;36mload_libzbar\u001b[0;34m()\u001b[0m\n\u001b[1;32m    125\u001b[0m \u001b[38;5;28;01mglobal\u001b[39;00m EXTERNAL_DEPENDENCIES\n\u001b[1;32m    126\u001b[0m \u001b[38;5;28;01mif\u001b[39;00m \u001b[38;5;129;01mnot\u001b[39;00m LIBZBAR:\n\u001b[0;32m--> 127\u001b[0m     libzbar, dependencies \u001b[38;5;241m=\u001b[39m \u001b[43mzbar_library\u001b[49m\u001b[38;5;241;43m.\u001b[39;49m\u001b[43mload\u001b[49m\u001b[43m(\u001b[49m\u001b[43m)\u001b[49m\n\u001b[1;32m    128\u001b[0m     LIBZBAR \u001b[38;5;241m=\u001b[39m libzbar\n\u001b[1;32m    129\u001b[0m     EXTERNAL_DEPENDENCIES \u001b[38;5;241m=\u001b[39m [LIBZBAR] \u001b[38;5;241m+\u001b[39m dependencies\n",
      "File \u001b[0;32m/usr/local/lib/python3.10/site-packages/pyzbar/zbar_library.py:65\u001b[0m, in \u001b[0;36mload\u001b[0;34m()\u001b[0m\n\u001b[1;32m     63\u001b[0m path \u001b[38;5;241m=\u001b[39m find_library(\u001b[38;5;124m'\u001b[39m\u001b[38;5;124mzbar\u001b[39m\u001b[38;5;124m'\u001b[39m)\n\u001b[1;32m     64\u001b[0m \u001b[38;5;28;01mif\u001b[39;00m \u001b[38;5;129;01mnot\u001b[39;00m path:\n\u001b[0;32m---> 65\u001b[0m     \u001b[38;5;28;01mraise\u001b[39;00m \u001b[38;5;167;01mImportError\u001b[39;00m(\u001b[38;5;124m'\u001b[39m\u001b[38;5;124mUnable to find zbar shared library\u001b[39m\u001b[38;5;124m'\u001b[39m)\n\u001b[1;32m     66\u001b[0m libzbar \u001b[38;5;241m=\u001b[39m cdll\u001b[38;5;241m.\u001b[39mLoadLibrary(path)\n\u001b[1;32m     67\u001b[0m dependencies \u001b[38;5;241m=\u001b[39m []\n",
      "\u001b[0;31mImportError\u001b[0m: Unable to find zbar shared library"
     ]
    }
   ],
   "source": [
    "from pyzbar.pyzbar import decode\n",
    "from PIL import Image, ImageGrab\n",
    " \n",
    " \n",
    "def qrdecode(img):\n",
    "    for x in decode(img):\n",
    "        print(x[0].decode(\"utf-8\"))\n",
    "return\n",
    " \n",
    "#print(qrdecode(ImageGrab.grabclipboard()))\n",
    "\n",
    "qrdecode(Image.open(\"qrcode.png\"))"
   ]
  },
  {
   "cell_type": "code",
   "execution_count": null,
   "id": "30ccb2b9-557d-4f27-b42f-f8a872160e05",
   "metadata": {},
   "outputs": [],
   "source": []
  }
 ],
 "metadata": {
  "kernelspec": {
   "display_name": "Python 3 (ipykernel)",
   "language": "python",
   "name": "python3"
  },
  "language_info": {
   "codemirror_mode": {
    "name": "ipython",
    "version": 3
   },
   "file_extension": ".py",
   "mimetype": "text/x-python",
   "name": "python",
   "nbconvert_exporter": "python",
   "pygments_lexer": "ipython3",
   "version": "3.10.6"
  }
 },
 "nbformat": 4,
 "nbformat_minor": 5
}
