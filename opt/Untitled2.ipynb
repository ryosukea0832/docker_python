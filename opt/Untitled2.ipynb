{
 "cells": [
  {
   "cell_type": "code",
   "execution_count": 32,
   "id": "b824278b-305b-4da0-b4e9-e25847267427",
   "metadata": {},
   "outputs": [
    {
     "name": "stdout",
     "output_type": "stream",
     "text": [
      "存在.\n",
      " 存在.20220909_shoutarou2003.blog.2nt.com.html\n"
     ]
    },
    {
     "ename": "TypeError",
     "evalue": "can only concatenate str (not \"dict\") to str",
     "output_type": "error",
     "traceback": [
      "\u001b[0;31m---------------------------------------------------------------------------\u001b[0m",
      "\u001b[0;31mTypeError\u001b[0m                                 Traceback (most recent call last)",
      "Input \u001b[0;32mIn [32]\u001b[0m, in \u001b[0;36m<cell line: 42>\u001b[0;34m()\u001b[0m\n\u001b[1;32m     67\u001b[0m         line_notify \u001b[38;5;241m=\u001b[39m requests\u001b[38;5;241m.\u001b[39mpost(line_notify_api, data\u001b[38;5;241m=\u001b[39mpayload, headers\u001b[38;5;241m=\u001b[39mheaders)\n\u001b[1;32m     69\u001b[0m         \u001b[38;5;28mprint\u001b[39m(\u001b[38;5;124m'\u001b[39m\u001b[38;5;124mdebuglog\u001b[39m\u001b[38;5;124m'\u001b[39m \u001b[38;5;241m+\u001b[39m payload)\n\u001b[0;32m---> 70\u001b[0m     \u001b[43mif_abc\u001b[49m\u001b[43m(\u001b[49m\u001b[43mb\u001b[49m\u001b[43m)\u001b[49m\n\u001b[1;32m     71\u001b[0m \u001b[38;5;28;01melse\u001b[39;00m:\n\u001b[1;32m     72\u001b[0m     \u001b[38;5;28mprint\u001b[39m (\u001b[38;5;124m\"\u001b[39m\u001b[38;5;124mいない.\u001b[39m\u001b[38;5;124m\"\u001b[39m \u001b[38;5;241m+\u001b[39m vgm_failname_before)\n",
      "Input \u001b[0;32mIn [32]\u001b[0m, in \u001b[0;36mif_abc\u001b[0;34m(b)\u001b[0m\n\u001b[1;32m     61\u001b[0m payload \u001b[38;5;241m=\u001b[39m {\u001b[38;5;124m'\u001b[39m\u001b[38;5;124mmessage\u001b[39m\u001b[38;5;124m'\u001b[39m:\u001b[38;5;124m\"\u001b[39m\u001b[38;5;130;01m\\r\u001b[39;00m\u001b[38;5;130;01m\\n\u001b[39;00m\u001b[38;5;124m\"\u001b[39m \u001b[38;5;241m+\u001b[39m message}\n\u001b[1;32m     62\u001b[0m line_notify \u001b[38;5;241m=\u001b[39m requests\u001b[38;5;241m.\u001b[39mpost(line_notify_api, data\u001b[38;5;241m=\u001b[39mpayload, headers\u001b[38;5;241m=\u001b[39mheaders)\n\u001b[0;32m---> 64\u001b[0m \u001b[38;5;28mprint\u001b[39m(\u001b[38;5;124;43m'\u001b[39;49m\u001b[38;5;124;43mdebuglog\u001b[39;49m\u001b[38;5;124;43m'\u001b[39;49m\u001b[43m \u001b[49m\u001b[38;5;241;43m+\u001b[39;49m\u001b[43m \u001b[49m\u001b[43mpayload\u001b[49m)\n\u001b[1;32m     66\u001b[0m payload \u001b[38;5;241m=\u001b[39m {\u001b[38;5;124m'\u001b[39m\u001b[38;5;124mmessage\u001b[39m\u001b[38;5;124m'\u001b[39m:\u001b[38;5;124m\"\u001b[39m\u001b[38;5;130;01m\\r\u001b[39;00m\u001b[38;5;130;01m\\n\u001b[39;00m\u001b[38;5;124m\"\u001b[39m \u001b[38;5;241m+\u001b[39m vgm_url}\n\u001b[1;32m     67\u001b[0m line_notify \u001b[38;5;241m=\u001b[39m requests\u001b[38;5;241m.\u001b[39mpost(line_notify_api, data\u001b[38;5;241m=\u001b[39mpayload, headers\u001b[38;5;241m=\u001b[39mheaders)\n",
      "\u001b[0;31mTypeError\u001b[0m: can only concatenate str (not \"dict\") to str"
     ]
    }
   ],
   "source": [
    "import requests\n",
    "from bs4 import BeautifulSoup\n",
    "\n",
    "import datetime\n",
    "import os\n",
    "import os.path\n",
    "  \n",
    "  \n",
    "vgm_url = 'http://shoutarou2003.blog.2nt.com'\n",
    "\n",
    "#ファイル操作\n",
    "target = 'http://'  # 「http://」より後ろを抽出したい\n",
    "idx = vgm_url.find(target)\n",
    "r = vgm_url[idx+len(target):]\n",
    "\n",
    "now = datetime.datetime.now()\n",
    "vgm_failname = now.strftime(\"%Y%m%d\") +'_'+ r +'.html'\n",
    "\n",
    "\n",
    "\n",
    "if os.path.exists(vgm_failname):\n",
    "    print( \"存在.\")\n",
    "    with open(vgm_failname, 'r',encoding='utf_8_sig') as f:\n",
    "     html_text = f.read()\n",
    "    \n",
    "else:\n",
    "    print (\"いない.\")\n",
    "    html_text = requests.get(vgm_url).text\n",
    "    \n",
    "    with open( vgm_failname, 'w',encoding='utf_8_sig') as f:\n",
    "     f.write(html_text)\n",
    "\n",
    "\n",
    "soup = BeautifulSoup(html_text, 'html.parser')\n",
    "    \n",
    "#for datainfo in soup.find_all('ul', class_='dateInfo'):\n",
    "#    print(datainfo)\n",
    "\n",
    "before = now - datetime.timedelta(days = 1 )\n",
    "vgm_failname_before = before.strftime(\"%Y%m%d\") +'_'+ r +'.html'\n",
    "\n",
    "if os.path.exists(vgm_failname_before):\n",
    "    print( \" 存在.\" + vgm_failname_before)\n",
    "    \n",
    "    with open(vgm_failname_before , encoding='utf_8_sig') as f:\n",
    "     html = f.read()\n",
    "     soup2 = BeautifulSoup(html, 'html.parser')\n",
    "    \n",
    "    b =soup == soup2\n",
    "\n",
    "    def if_abc(b):\n",
    "     if b == True:\n",
    "        print('更新がありません')\n",
    "     else:\n",
    "        line_notify_token = '0ukYKtYvqlyDsD0Aq2JDf8YTRjIdfIHK5oAjlP80vMy'\n",
    "        line_notify_api = 'https://notify-api.line.me/api/notify'\n",
    "        headers = {'Authorization': 'Bearer ' + line_notify_token}  # 発行したトークン\n",
    "\n",
    "        addmessage=\"ショタの国境inジャパンのHPで\" \"\\r\\n\" \"情報の更新がありました。\" \"\\r\\n\" \"内容の確認をして下さい。\" \"\\r\\n\" + vgm_url\n",
    "        message = addmessage\n",
    "        payload = {'message':\"\\r\\n\" + message}\n",
    "        line_notify = requests.post(line_notify_api, data=payload, headers=headers)\n",
    "        \n",
    "        print('debuglog' + payload)\n",
    "        \n",
    "        payload = {'message':\"\\r\\n\" + vgm_url}\n",
    "        line_notify = requests.post(line_notify_api, data=payload, headers=headers)\n",
    "        \n",
    "        print('debuglog' + payload)\n",
    "    if_abc(b)\n",
    "else:\n",
    "    print (\"いない.\" + vgm_failname_before)\n",
    "    \n"
   ]
  },
  {
   "cell_type": "code",
   "execution_count": null,
   "id": "7ac9fa38-c275-4a0b-afe2-1c8bc3159d68",
   "metadata": {},
   "outputs": [],
   "source": []
  }
 ],
 "metadata": {
  "kernelspec": {
   "display_name": "Python 3 (ipykernel)",
   "language": "python",
   "name": "python3"
  },
  "language_info": {
   "codemirror_mode": {
    "name": "ipython",
    "version": 3
   },
   "file_extension": ".py",
   "mimetype": "text/x-python",
   "name": "python",
   "nbconvert_exporter": "python",
   "pygments_lexer": "ipython3",
   "version": "3.10.6"
  }
 },
 "nbformat": 4,
 "nbformat_minor": 5
}
