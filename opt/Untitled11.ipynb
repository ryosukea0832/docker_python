{
 "cells": [
  {
   "cell_type": "code",
   "execution_count": null,
   "id": "64847a3b-6ff1-4361-8eba-4081792ae688",
   "metadata": {},
   "outputs": [],
   "source": [
    "# -*- coding: utf-8 -*-\n",
    "import sys\n",
    "\n",
    "from qtpy.QtWidgets import (\n",
    "    QMainWindow, QApplication, QLabel, QWidget, QVBoxLayout\n",
    ")\n",
    "from qtpy.QtCore import QObject, Qt\n",
    "\n",
    "\n",
    "class MainWindow(QMainWindow):\n",
    "    def __init__(self, **kwargs):\n",
    "        super(MainWindow, self).__init__(**kwargs)\n",
    "\n",
    "        self.main_widget = QWidget(self)\n",
    "\n",
    "        layout = QVBoxLayout()\n",
    "        layout.addWidget(QLabel('Hello, World!'))\n",
    "\n",
    "        self.main_widget.setLayout(layout)\n",
    "        self.setCentralWidget(self.main_widget)\n",
    "        self.resize(640, 480)\n",
    "\n",
    "\n",
    "def main():\n",
    "    app = QApplication(sys.argv)\n",
    "\n",
    "    view = MainWindow()\n",
    "\n",
    "    view.show()\n",
    "    sys.exit(app.exec_())\n",
    "\n",
    "\n",
    "if __name__ == '__main__':\n",
    "    main()"
   ]
  },
  {
   "cell_type": "code",
   "execution_count": null,
   "id": "236595b7-ea63-4541-98fd-bbe2c77ffc12",
   "metadata": {},
   "outputs": [],
   "source": []
  }
 ],
 "metadata": {
  "kernelspec": {
   "display_name": "Python 3 (ipykernel)",
   "language": "python",
   "name": "python3"
  },
  "language_info": {
   "codemirror_mode": {
    "name": "ipython",
    "version": 3
   },
   "file_extension": ".py",
   "mimetype": "text/x-python",
   "name": "python",
   "nbconvert_exporter": "python",
   "pygments_lexer": "ipython3",
   "version": "3.10.6"
  }
 },
 "nbformat": 4,
 "nbformat_minor": 5
}
