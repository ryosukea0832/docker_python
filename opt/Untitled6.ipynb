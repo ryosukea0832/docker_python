{
 "cells": [
  {
   "cell_type": "code",
   "execution_count": 6,
   "id": "ad7eca25-961a-4357-bc1d-8c90b8a4e9e0",
   "metadata": {},
   "outputs": [
    {
     "name": "stdout",
     "output_type": "stream",
     "text": [
      "007.wav\n",
      "009.wav\n",
      "006.wav\n",
      "005.wav\n",
      "001.wav\n",
      "012.wav\n",
      "003.wav\n",
      "014.wav\n",
      "016.wav\n",
      "015.wav\n",
      "002.wav\n",
      "010.wav\n",
      "004.wav\n",
      "011.wav\n",
      "013.wav\n",
      "008.wav\n",
      "['./cut_wav/001.wav', './cut_wav/002.wav', './cut_wav/003.wav', './cut_wav/004.wav', './cut_wav/005.wav', './cut_wav/006.wav', './cut_wav/007.wav', './cut_wav/008.wav', './cut_wav/009.wav', './cut_wav/0010.wav', './cut_wav/0011.wav', './cut_wav/0012.wav', './cut_wav/0013.wav', './cut_wav/0014.wav', './cut_wav/0015.wav', './cut_wav/0016.wav']\n"
     ]
    }
   ],
   "source": [
    "import os\n",
    "\n",
    "cut_wavs = []\n",
    "cont = 0\n",
    "\n",
    "for wavf in os.listdir('./cut_wav/'):\n",
    "    print(wavf)\n",
    "    cont += 1\n",
    "    base = '00' + str(cont)\n",
    "    cut_wavs.append('./cut_wav/' + base + '.wav')\n",
    "print(cut_wavs)"
   ]
  },
  {
   "cell_type": "code",
   "execution_count": null,
   "id": "dc2a5a1d-3580-4f0e-8f20-3f2d154cef7e",
   "metadata": {},
   "outputs": [],
   "source": []
  }
 ],
 "metadata": {
  "kernelspec": {
   "display_name": "Python 3 (ipykernel)",
   "language": "python",
   "name": "python3"
  },
  "language_info": {
   "codemirror_mode": {
    "name": "ipython",
    "version": 3
   },
   "file_extension": ".py",
   "mimetype": "text/x-python",
   "name": "python",
   "nbconvert_exporter": "python",
   "pygments_lexer": "ipython3",
   "version": "3.10.6"
  }
 },
 "nbformat": 4,
 "nbformat_minor": 5
}
