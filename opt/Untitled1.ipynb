{
 "cells": [
  {
   "cell_type": "code",
   "execution_count": 2,
   "id": "4d1e0b4d-8b79-475b-9485-3f8d1446ea80",
   "metadata": {},
   "outputs": [
    {
     "name": "stdout",
     "output_type": "stream",
     "text": [
      "存在.\n",
      "<h1 id=\"blogTitle\"><a href=\"http://shoutarou2003.blog.2nt.com/\">ショタの国境inジャパン</a></h1>\n"
     ]
    }
   ],
   "source": [
    "import requests\n",
    "from bs4 import BeautifulSoup\n",
    "\n",
    "import datetime\n",
    "import os\n",
    "import os.path\n",
    "  \n",
    "  \n",
    "vgm_url = 'http://shoutarou2003.blog.2nt.com'\n",
    "\n",
    "#ファイル操作\n",
    "target = 'http://'  # 「http://」より後ろを抽出したい\n",
    "idx = vgm_url.find(target)\n",
    "r = vgm_url[idx+len(target):]\n",
    "\n",
    "now = datetime.datetime.now()\n",
    "vgm_failname = now.strftime(\"%Y%m%d\") +'_'+ r +'.html'\n",
    "\n",
    "\n",
    "\n",
    "if os.path.exists(vgm_failname):\n",
    "    print( \"存在.\")\n",
    "    with open(vgm_failname, 'r',encoding='utf_8_sig') as f:\n",
    "     html_text = f.read()\n",
    "    \n",
    "else:\n",
    "    print (\"いない.\")\n",
    "    html_text = requests.get(vgm_url).text\n",
    "    \n",
    "    with open( vgm_failname, 'w',encoding='utf_8_sig') as f:\n",
    "     f.write(html_text)\n",
    "\n",
    "\n",
    "soup = BeautifulSoup(html_text, 'html.parser')\n",
    "    \n",
    "for datainfo in soup.find_all('h1'):\n",
    "    print(datainfo)\n",
    "\n"
   ]
  },
  {
   "cell_type": "code",
   "execution_count": null,
   "id": "85d9c889-3ded-4814-95aa-dd6ccb20c443",
   "metadata": {},
   "outputs": [],
   "source": []
  }
 ],
 "metadata": {
  "kernelspec": {
   "display_name": "Python 3 (ipykernel)",
   "language": "python",
   "name": "python3"
  },
  "language_info": {
   "codemirror_mode": {
    "name": "ipython",
    "version": 3
   },
   "file_extension": ".py",
   "mimetype": "text/x-python",
   "name": "python",
   "nbconvert_exporter": "python",
   "pygments_lexer": "ipython3",
   "version": "3.10.6"
  }
 },
 "nbformat": 4,
 "nbformat_minor": 5
}
