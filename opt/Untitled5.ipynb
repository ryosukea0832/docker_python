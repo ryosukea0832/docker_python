{
 "cells": [
  {
   "cell_type": "code",
   "execution_count": 6,
   "id": "5de6bac2-2942-425c-b1be-57dbcc1ac698",
   "metadata": {},
   "outputs": [
    {
     "name": "stdout",
     "output_type": "stream",
     "text": [
      "007.wav\n",
      "009.wav\n",
      "006.wav\n",
      "005.wav\n",
      "012.wav\n",
      "003.wav\n",
      "014.wav\n",
      "016.wav\n",
      "015.wav\n",
      "010.wav\n",
      "004.wav\n",
      "011.wav\n",
      "013.wav\n",
      "008.wav\n",
      "['./cut_wav/001.wav', './cut_wav/002.wav', './cut_wav/003.wav', './cut_wav/004.wav', './cut_wav/005.wav', './cut_wav/006.wav', './cut_wav/007.wav', './cut_wav/008.wav', './cut_wav/009.wav', './cut_wav/0010.wav', './cut_wav/0011.wav', './cut_wav/0012.wav', './cut_wav/0013.wav', './cut_wav/0014.wav']\n",
      "音声のテキスト変換\n",
      "./cut_wav/001.wav\n",
      "0\n"
     ]
    },
    {
     "ename": "FileNotFoundError",
     "evalue": "[Errno 2] No such file or directory: './cut_wav/001.wav'",
     "output_type": "error",
     "traceback": [
      "\u001b[0;31m---------------------------------------------------------------------------\u001b[0m",
      "\u001b[0;31mFileNotFoundError\u001b[0m                         Traceback (most recent call last)",
      "Cell \u001b[0;32mIn [6], line 49\u001b[0m\n\u001b[1;32m     46\u001b[0m     \u001b[38;5;28;01mreturn\u001b[39;00m output_text\n\u001b[1;32m     48\u001b[0m \u001b[38;5;66;03m# 複数ファイルの音声のテキスト変換\u001b[39;00m\n\u001b[0;32m---> 49\u001b[0m out_text \u001b[38;5;241m=\u001b[39m \u001b[43mcut_wavs_str\u001b[49m\u001b[43m(\u001b[49m\u001b[43mcut_wavs\u001b[49m\u001b[43m)\u001b[49m\n\u001b[1;32m     51\u001b[0m \u001b[38;5;66;03m# テキストファイルへの入力\u001b[39;00m\n\u001b[1;32m     52\u001b[0m mp4f_name \u001b[38;5;241m=\u001b[39m os\u001b[38;5;241m.\u001b[39mpath\u001b[38;5;241m.\u001b[39mbasename(mp4f)\n",
      "Cell \u001b[0;32mIn [6], line 38\u001b[0m, in \u001b[0;36mcut_wavs_str\u001b[0;34m(outf_list)\u001b[0m\n\u001b[1;32m     36\u001b[0m cont \u001b[38;5;241m+\u001b[39m\u001b[38;5;241m=\u001b[39m \u001b[38;5;241m1\u001b[39m\n\u001b[1;32m     37\u001b[0m \u001b[38;5;66;03m# 音声->テキスト\u001b[39;00m\n\u001b[0;32m---> 38\u001b[0m \u001b[38;5;28;01mwith\u001b[39;00m sr\u001b[38;5;241m.\u001b[39mAudioFile(fwav) \u001b[38;5;28;01mas\u001b[39;00m source:\n\u001b[1;32m     39\u001b[0m     \u001b[38;5;28mprint\u001b[39m(\u001b[38;5;124m'\u001b[39m\u001b[38;5;124m音声→テキスト \u001b[39m\u001b[38;5;124m'\u001b[39m)\n\u001b[1;32m     40\u001b[0m     audio \u001b[38;5;241m=\u001b[39m r\u001b[38;5;241m.\u001b[39mrecord(source)\n",
      "File \u001b[0;32m/usr/local/lib/python3.10/site-packages/speech_recognition/__init__.py:203\u001b[0m, in \u001b[0;36mAudioFile.__enter__\u001b[0;34m(self)\u001b[0m\n\u001b[1;32m    200\u001b[0m \u001b[38;5;28;01massert\u001b[39;00m \u001b[38;5;28mself\u001b[39m\u001b[38;5;241m.\u001b[39mstream \u001b[38;5;129;01mis\u001b[39;00m \u001b[38;5;28;01mNone\u001b[39;00m, \u001b[38;5;124m\"\u001b[39m\u001b[38;5;124mThis audio source is already inside a context manager\u001b[39m\u001b[38;5;124m\"\u001b[39m\n\u001b[1;32m    201\u001b[0m \u001b[38;5;28;01mtry\u001b[39;00m:\n\u001b[1;32m    202\u001b[0m     \u001b[38;5;66;03m# attempt to read the file as WAV\u001b[39;00m\n\u001b[0;32m--> 203\u001b[0m     \u001b[38;5;28mself\u001b[39m\u001b[38;5;241m.\u001b[39maudio_reader \u001b[38;5;241m=\u001b[39m \u001b[43mwave\u001b[49m\u001b[38;5;241;43m.\u001b[39;49m\u001b[43mopen\u001b[49m\u001b[43m(\u001b[49m\u001b[38;5;28;43mself\u001b[39;49m\u001b[38;5;241;43m.\u001b[39;49m\u001b[43mfilename_or_fileobject\u001b[49m\u001b[43m,\u001b[49m\u001b[43m \u001b[49m\u001b[38;5;124;43m\"\u001b[39;49m\u001b[38;5;124;43mrb\u001b[39;49m\u001b[38;5;124;43m\"\u001b[39;49m\u001b[43m)\u001b[49m\n\u001b[1;32m    204\u001b[0m     \u001b[38;5;28mself\u001b[39m\u001b[38;5;241m.\u001b[39mlittle_endian \u001b[38;5;241m=\u001b[39m \u001b[38;5;28;01mTrue\u001b[39;00m  \u001b[38;5;66;03m# RIFF WAV is a little-endian format (most ``audioop`` operations assume that the frames are stored in little-endian form)\u001b[39;00m\n\u001b[1;32m    205\u001b[0m \u001b[38;5;28;01mexcept\u001b[39;00m (wave\u001b[38;5;241m.\u001b[39mError, \u001b[38;5;167;01mEOFError\u001b[39;00m):\n",
      "File \u001b[0;32m/usr/local/lib/python3.10/wave.py:509\u001b[0m, in \u001b[0;36mopen\u001b[0;34m(f, mode)\u001b[0m\n\u001b[1;32m    507\u001b[0m         mode \u001b[38;5;241m=\u001b[39m \u001b[38;5;124m'\u001b[39m\u001b[38;5;124mrb\u001b[39m\u001b[38;5;124m'\u001b[39m\n\u001b[1;32m    508\u001b[0m \u001b[38;5;28;01mif\u001b[39;00m mode \u001b[38;5;129;01min\u001b[39;00m (\u001b[38;5;124m'\u001b[39m\u001b[38;5;124mr\u001b[39m\u001b[38;5;124m'\u001b[39m, \u001b[38;5;124m'\u001b[39m\u001b[38;5;124mrb\u001b[39m\u001b[38;5;124m'\u001b[39m):\n\u001b[0;32m--> 509\u001b[0m     \u001b[38;5;28;01mreturn\u001b[39;00m \u001b[43mWave_read\u001b[49m\u001b[43m(\u001b[49m\u001b[43mf\u001b[49m\u001b[43m)\u001b[49m\n\u001b[1;32m    510\u001b[0m \u001b[38;5;28;01melif\u001b[39;00m mode \u001b[38;5;129;01min\u001b[39;00m (\u001b[38;5;124m'\u001b[39m\u001b[38;5;124mw\u001b[39m\u001b[38;5;124m'\u001b[39m, \u001b[38;5;124m'\u001b[39m\u001b[38;5;124mwb\u001b[39m\u001b[38;5;124m'\u001b[39m):\n\u001b[1;32m    511\u001b[0m     \u001b[38;5;28;01mreturn\u001b[39;00m Wave_write(f)\n",
      "File \u001b[0;32m/usr/local/lib/python3.10/wave.py:159\u001b[0m, in \u001b[0;36mWave_read.__init__\u001b[0;34m(self, f)\u001b[0m\n\u001b[1;32m    157\u001b[0m \u001b[38;5;28mself\u001b[39m\u001b[38;5;241m.\u001b[39m_i_opened_the_file \u001b[38;5;241m=\u001b[39m \u001b[38;5;28;01mNone\u001b[39;00m\n\u001b[1;32m    158\u001b[0m \u001b[38;5;28;01mif\u001b[39;00m \u001b[38;5;28misinstance\u001b[39m(f, \u001b[38;5;28mstr\u001b[39m):\n\u001b[0;32m--> 159\u001b[0m     f \u001b[38;5;241m=\u001b[39m \u001b[43mbuiltins\u001b[49m\u001b[38;5;241;43m.\u001b[39;49m\u001b[43mopen\u001b[49m\u001b[43m(\u001b[49m\u001b[43mf\u001b[49m\u001b[43m,\u001b[49m\u001b[43m \u001b[49m\u001b[38;5;124;43m'\u001b[39;49m\u001b[38;5;124;43mrb\u001b[39;49m\u001b[38;5;124;43m'\u001b[39;49m\u001b[43m)\u001b[49m\n\u001b[1;32m    160\u001b[0m     \u001b[38;5;28mself\u001b[39m\u001b[38;5;241m.\u001b[39m_i_opened_the_file \u001b[38;5;241m=\u001b[39m f\n\u001b[1;32m    161\u001b[0m \u001b[38;5;66;03m# else, assume it is an open file object already\u001b[39;00m\n",
      "\u001b[0;31mFileNotFoundError\u001b[0m: [Errno 2] No such file or directory: './cut_wav/001.wav'"
     ]
    }
   ],
   "source": [
    "import os\n",
    "import shutil\n",
    "import subprocess\n",
    "\n",
    "import speech_recognition as sr\n",
    "\n",
    "mp4f = './mp4/トーク２.mp4'\n",
    "\n",
    "cut_wavs = []\n",
    "cont = 0\n",
    "\n",
    "for wavf in os.listdir('./cut_wav/'):\n",
    "    print(wavf)\n",
    "    base = '00' + str(cont)\n",
    "    cut_wavs.append('./cut_wav/' + base + '.wav')\n",
    "    cont += 1\n",
    "print(cut_wavs)\n",
    "\n",
    "def cut_wavs_str(outf_list):\n",
    "    output_text = ''\n",
    "    # 複数処理\n",
    "    print('音声のテキスト変換')\n",
    "    cont = 0\n",
    "\n",
    "    for fwav in outf_list:\n",
    "        print(fwav)\n",
    "        r = sr.Recognizer()\n",
    "      \n",
    "        if 3 == cont:\n",
    "            print('待機')\n",
    "            time.sleep(1)\n",
    "            cont = 0\n",
    "        \n",
    "            \n",
    "        print(cont)\n",
    "        cont += 1\n",
    "        # 音声->テキスト\n",
    "        with sr.AudioFile(fwav) as source:\n",
    "            print('音声→テキスト ')\n",
    "            audio = r.record(source)\n",
    "            text = r.recognize_google(audio, language='ja-JP')\n",
    "            # 各ファイルの出力結果の結合\n",
    "            output_text = output_text + text + '\\n'\n",
    "            # wavファイルを削除\n",
    "            os.remove(fwav)\n",
    "    return output_text\n",
    "\n",
    "# 複数ファイルの音声のテキスト変換\n",
    "out_text = cut_wavs_str(cut_wavs)\n",
    "\n",
    "# テキストファイルへの入力\n",
    "mp4f_name = os.path.basename(mp4f)\n",
    "txt_file = './out_text/' + mp4f_name.replace('.mp4', '.txt')\n",
    "print('テキスト出力')\n",
    "print(txt_file)\n",
    "f = open(txt_file, 'w')\n",
    "f.write(out_text)\n",
    "f.close()"
   ]
  },
  {
   "cell_type": "code",
   "execution_count": null,
   "id": "8d96118f-6e9a-484f-9553-c1a51e41d1f2",
   "metadata": {},
   "outputs": [],
   "source": []
  }
 ],
 "metadata": {
  "kernelspec": {
   "display_name": "Python 3 (ipykernel)",
   "language": "python",
   "name": "python3"
  },
  "language_info": {
   "codemirror_mode": {
    "name": "ipython",
    "version": 3
   },
   "file_extension": ".py",
   "mimetype": "text/x-python",
   "name": "python",
   "nbconvert_exporter": "python",
   "pygments_lexer": "ipython3",
   "version": "3.10.6"
  }
 },
 "nbformat": 4,
 "nbformat_minor": 5
}
