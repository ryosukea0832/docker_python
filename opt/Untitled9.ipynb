{
 "cells": [
  {
   "cell_type": "code",
   "execution_count": 1,
   "id": "2fd858f7-60d7-4eea-8952-6b701297ccae",
   "metadata": {},
   "outputs": [
    {
     "name": "stdout",
     "output_type": "stream",
     "text": [
      "1666789495.7665277\n",
      "./mov/トーク２.MOV\n",
      "0.11506295204162598\n"
     ]
    },
    {
     "name": "stderr",
     "output_type": "stream",
     "text": [
      "ffmpeg version 4.3.4-0+deb11u1 Copyright (c) 2000-2021 the FFmpeg developers\n",
      "  built with gcc 10 (Debian 10.2.1-6)\n",
      "  configuration: --prefix=/usr --extra-version=0+deb11u1 --toolchain=hardened --libdir=/usr/lib/x86_64-linux-gnu --incdir=/usr/include/x86_64-linux-gnu --arch=amd64 --enable-gpl --disable-stripping --enable-avresample --disable-filter=resample --enable-gnutls --enable-ladspa --enable-libaom --enable-libass --enable-libbluray --enable-libbs2b --enable-libcaca --enable-libcdio --enable-libcodec2 --enable-libdav1d --enable-libflite --enable-libfontconfig --enable-libfreetype --enable-libfribidi --enable-libgme --enable-libgsm --enable-libjack --enable-libmp3lame --enable-libmysofa --enable-libopenjpeg --enable-libopenmpt --enable-libopus --enable-libpulse --enable-librabbitmq --enable-librsvg --enable-librubberband --enable-libshine --enable-libsnappy --enable-libsoxr --enable-libspeex --enable-libsrt --enable-libssh --enable-libtheora --enable-libtwolame --enable-libvidstab --enable-libvorbis --enable-libvpx --enable-libwavpack --enable-libwebp --enable-libx265 --enable-libxml2 --enable-libxvid --enable-libzmq --enable-libzvbi --enable-lv2 --enable-omx --enable-openal --enable-opencl --enable-opengl --enable-sdl2 --enable-pocketsphinx --enable-libmfx --enable-libdc1394 --enable-libdrm --enable-libiec61883 --enable-chromaprint --enable-frei0r --enable-libx264 --enable-shared\n",
      "  libavutil      56. 51.100 / 56. 51.100\n",
      "  libavcodec     58. 91.100 / 58. 91.100\n",
      "  libavformat    58. 45.100 / 58. 45.100\n",
      "  libavdevice    58. 10.100 / 58. 10.100\n",
      "  libavfilter     7. 85.100 /  7. 85.100\n",
      "  libavresample   4.  0.  0 /  4.  0.  0\n",
      "  libswscale      5.  7.100 /  5.  7.100\n",
      "  libswresample   3.  7.100 /  3.  7.100\n",
      "  libpostproc    55.  7.100 / 55.  7.100\n",
      "-c:v h264_nvenc: Protocol not found\n",
      "Did you mean file:-c:v h264_nvenc?\n"
     ]
    }
   ],
   "source": [
    "# -*- coding: utf-8 -*-\n",
    "\n",
    "import os\n",
    "import shutil\n",
    "import subprocess\n",
    "\n",
    "import speech_recognition as sr\n",
    "\n",
    "# 音声ファイルの分割\n",
    "import wave\n",
    "import math\n",
    "import struct\n",
    "import numpy as geek\n",
    "import time\n",
    "import datetime\n",
    "#from scipy import fromstring, int16 \n",
    "\n",
    "\n",
    "\n",
    "def mov_to_mp4(movf):\n",
    "       \n",
    "    mp4f = movf.replace('.MOV', '.mp4')\n",
    "    mp4f = mp4f.replace('./mov/', './mp4/')\n",
    "   \n",
    "    if os.path.exists(mp4f):\n",
    "     os.remove(mp4f)\n",
    "\n",
    "#    subprocess.run(['ffmpeg', '-i', movf, mp4f], \n",
    "#                   encoding='utf-8', stdout=subprocess.PIPE)\n",
    "#    -c:v h264_nvenc \n",
    "    \n",
    "    p = subprocess.Popen(['ffmpeg', '-i', '-c:v h264_nvenc',movf, mp4f], \n",
    "                   encoding='utf-8', stdout=subprocess.PIPE)\n",
    "    p.wait()\n",
    "    \n",
    "    return mp4f\n",
    "\n",
    "\n",
    "#main関数的な。。\n",
    "path = './mov/'\n",
    "\n",
    "#meke_c()\n",
    "#    check_directory()\n",
    "  \n",
    "#  for movf in os.listdir(path):\n",
    "#movf = path + \"サムネ.MOV\"\n",
    "\n",
    "outf_list = []\n",
    "\n",
    "for movf in os.listdir(path):\n",
    "    base,ext = os.path.splitext(movf)\n",
    "\n",
    "#    if ext == '.MOV':\n",
    "#        outf_list.append(path + base + '.MOV')\n",
    "outf_list.append('./mov/トーク２.MOV')\n",
    "\n",
    "\n",
    "for movf in outf_list:\n",
    "    # 現在時間\n",
    "    time_sta = time.time()\n",
    "    print(time_sta)\n",
    "    \n",
    "    print(movf)\n",
    "    # 動画ファイルの変換  \n",
    "    mp4f = mov_to_mp4(movf)\n",
    "    \n",
    "    time_end = time.time()\n",
    "    tim = time_end- time_sta\n",
    "    print(tim)"
   ]
  },
  {
   "cell_type": "code",
   "execution_count": null,
   "id": "105ccd54-0c2a-4848-972b-9a6de19ed163",
   "metadata": {},
   "outputs": [],
   "source": []
  }
 ],
 "metadata": {
  "kernelspec": {
   "display_name": "Python 3 (ipykernel)",
   "language": "python",
   "name": "python3"
  },
  "language_info": {
   "codemirror_mode": {
    "name": "ipython",
    "version": 3
   },
   "file_extension": ".py",
   "mimetype": "text/x-python",
   "name": "python",
   "nbconvert_exporter": "python",
   "pygments_lexer": "ipython3",
   "version": "3.10.6"
  }
 },
 "nbformat": 4,
 "nbformat_minor": 5
}
